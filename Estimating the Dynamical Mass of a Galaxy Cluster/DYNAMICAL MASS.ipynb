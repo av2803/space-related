{
  "cells": [
    {
      "cell_type": "markdown",
      "source": [
        "#DYNAMICAL MASS PROJECT"
      ],
      "metadata": {
        "id": "RNohxmPyOmn5"
      }
    },
    {
      "cell_type": "markdown",
      "metadata": {
        "id": "ax-D3ahFDdDv"
      },
      "source": [
        "### Step 1: Importing Necessary Libraries\n",
        "We begin by importing Python libraries commonly used in data analysis and visualization:\n",
        "- `numpy` for numerical operations\n",
        "- `matplotlib.pyplot` for plotting graphs\n",
        "- `pandas` (commented out here) for handling CSV data, which is especially useful for tabular data such as redshift catalogs\n",
        "\n",
        "> Tip: If you haven’t used `pandas` before, it’s worth learning as it offers powerful tools to manipulate and analyze structured datasets.\n"
      ]
    },
    {
      "cell_type": "markdown",
      "metadata": {
        "id": "GbBkWcLBDdDw"
      },
      "source": [
        "For reading big csv files, one can use numpy as well as something called \"pandas\". We suggest to read pandas for CSV file reading and use that"
      ]
    },
    {
      "cell_type": "code",
      "execution_count": 2,
      "metadata": {
        "id": "jwQcCF9lDdDx"
      },
      "outputs": [],
      "source": [
        "import numpy as np\n",
        "import matplotlib.pyplot as plt\n",
        "import pandas as pd\n",
        "from astropy.constants import G, c\n",
        "from astropy.cosmology import Planck18 as cosmo\n",
        "import astropy.units as u\n",
        "from astropy.io import fits"
      ]
    },
    {
      "cell_type": "markdown",
      "metadata": {
        "id": "mnRnsIALDdDx"
      },
      "source": [
        "\n",
        "Before we begin calculations, we define key physical constants used throughout:\n",
        "\n",
        "- $ H_0 $: Hubble constant, describes the expansion rate of the Universe.\n",
        "- $c$ : Speed of light.\n",
        "-  $G$: Gravitational constant.\n",
        "- $q_0$ : Deceleration parameter, used for approximate co-moving distance calculations.\n",
        "\n",
        "We will use **`astropy.constants`** to ensure unit consistency and precision."
      ]
    },
    {
      "cell_type": "code",
      "execution_count": 3,
      "metadata": {
        "colab": {
          "base_uri": "https://localhost:8080/"
        },
        "id": "uWKNZYomDdDy",
        "outputId": "99e62bd8-5ded-43fd-9f67-b0033c5290ba"
      },
      "outputs": [
        {
          "output_type": "stream",
          "name": "stdout",
          "text": [
            "70.0 km / (Mpc s)\n",
            "299792.458 km / s\n",
            "4.300917270036279e-09 km2 Mpc / (solMass s2)\n"
          ]
        }
      ],
      "source": [
        "# Constants:\n",
        "#units also mentioned\n",
        "from astropy import constants as const\n",
        "from astropy import units as u\n",
        "\n",
        "H0 = 70* u.km/u.s/u.Mpc # Hubble constant in SI unit that is in kilometre per second per megaparsec\n",
        "print(H0)\n",
        "c_to_kms=const.c.to(u.km/u.s) # Speed of light in km/s\n",
        "print(c_to_kms)\n",
        "G=const.G.to(u.Mpc * u.km**2 / u.s**2 / u.Msun)  # Gravitational constant in Mpc⋅(km/s)^2⋅M_sun⁻¹\n",
        "print(G)\n",
        "q0= -0.534  # Deceleration parameter (assumed from Planck fit)"
      ]
    },
    {
      "cell_type": "markdown",
      "metadata": {
        "id": "-UECN64HDdDy"
      },
      "source": [
        "Read the csv data into the python using the method below"
      ]
    },
    {
      "cell_type": "code",
      "execution_count": 6,
      "metadata": {
        "colab": {
          "base_uri": "https://localhost:8080/"
        },
        "id": "VT-K7QikDdDy",
        "outputId": "d7631ad7-3cd7-47e4-c81f-dbd81a6699b2"
      },
      "outputs": [
        {
          "output_type": "stream",
          "name": "stdout",
          "text": [
            "<class 'pandas.core.frame.DataFrame'>\n",
            "RangeIndex: 139 entries, 0 to 138\n",
            "Data columns (total 15 columns):\n",
            " #   Column     Non-Null Count  Dtype  \n",
            "---  ------     --------------  -----  \n",
            " 0   objid      139 non-null    float64\n",
            " 1   ra         139 non-null    float64\n",
            " 2   dec        139 non-null    float64\n",
            " 3   photoz     139 non-null    float64\n",
            " 4   photozerr  139 non-null    float64\n",
            " 5   specz      139 non-null    float64\n",
            " 6   speczerr   139 non-null    float64\n",
            " 7   proj_sep   139 non-null    float64\n",
            " 8   umag       139 non-null    float64\n",
            " 9   umagerr    139 non-null    float64\n",
            " 10  gmag       139 non-null    float64\n",
            " 11  gmagerr    139 non-null    float64\n",
            " 12  rmag       139 non-null    float64\n",
            " 13  rmagerr    139 non-null    float64\n",
            " 14  obj_type   139 non-null    int64  \n",
            "dtypes: float64(14), int64(1)\n",
            "memory usage: 16.4 KB\n"
          ]
        }
      ],
      "source": [
        "df = pd.read_csv('Skyserver_SQL6_20_2025 5_07_17 PM.csv',header=1) # Data downloaded from SDSS. header=1 as we start reading data from the 2nd row\n",
        "df.info()"
      ]
    },
    {
      "cell_type": "code",
      "source": [
        "df.head()"
      ],
      "metadata": {
        "colab": {
          "base_uri": "https://localhost:8080/",
          "height": 206
        },
        "id": "juyLPed5WycV",
        "outputId": "11629fdb-adac-449e-a0d2-e3654de18156"
      },
      "execution_count": 7,
      "outputs": [
        {
          "output_type": "execute_result",
          "data": {
            "text/plain": [
              "          objid         ra        dec    photoz  photozerr     specz  \\\n",
              "0  1.240000e+18  257.82458  64.133257  0.079193   0.022867  0.082447   \n",
              "1  1.240000e+18  257.82458  64.133257  0.079193   0.022867  0.082466   \n",
              "2  1.240000e+18  257.83332  64.126043  0.091507   0.014511  0.081218   \n",
              "3  1.240000e+18  257.85137  64.173247  0.081102   0.009898  0.079561   \n",
              "4  1.240000e+18  257.85137  64.173247  0.081102   0.009898  0.079568   \n",
              "\n",
              "   speczerr  proj_sep      umag   umagerr      gmag   gmagerr      rmag  \\\n",
              "0  0.000017  8.347733  18.96488  0.043377  17.49815  0.005672  16.75003   \n",
              "1  0.000014  8.347733  18.96488  0.043377  17.49815  0.005672  16.75003   \n",
              "2  0.000021  8.011259  20.22848  0.072019  18.38334  0.007763  17.46793   \n",
              "3  0.000022  8.739276  19.21829  0.050135  17.18970  0.004936  16.22043   \n",
              "4  0.000019  8.739276  19.21829  0.050135  17.18970  0.004936  16.22043   \n",
              "\n",
              "    rmagerr  obj_type  \n",
              "0  0.004708         3  \n",
              "1  0.004708         3  \n",
              "2  0.005828         3  \n",
              "3  0.003769         3  \n",
              "4  0.003769         3  "
            ],
            "text/html": [
              "\n",
              "  <div id=\"df-ef7050fc-2348-40ee-b352-ad24d3570acf\" class=\"colab-df-container\">\n",
              "    <div>\n",
              "<style scoped>\n",
              "    .dataframe tbody tr th:only-of-type {\n",
              "        vertical-align: middle;\n",
              "    }\n",
              "\n",
              "    .dataframe tbody tr th {\n",
              "        vertical-align: top;\n",
              "    }\n",
              "\n",
              "    .dataframe thead th {\n",
              "        text-align: right;\n",
              "    }\n",
              "</style>\n",
              "<table border=\"1\" class=\"dataframe\">\n",
              "  <thead>\n",
              "    <tr style=\"text-align: right;\">\n",
              "      <th></th>\n",
              "      <th>objid</th>\n",
              "      <th>ra</th>\n",
              "      <th>dec</th>\n",
              "      <th>photoz</th>\n",
              "      <th>photozerr</th>\n",
              "      <th>specz</th>\n",
              "      <th>speczerr</th>\n",
              "      <th>proj_sep</th>\n",
              "      <th>umag</th>\n",
              "      <th>umagerr</th>\n",
              "      <th>gmag</th>\n",
              "      <th>gmagerr</th>\n",
              "      <th>rmag</th>\n",
              "      <th>rmagerr</th>\n",
              "      <th>obj_type</th>\n",
              "    </tr>\n",
              "  </thead>\n",
              "  <tbody>\n",
              "    <tr>\n",
              "      <th>0</th>\n",
              "      <td>1.240000e+18</td>\n",
              "      <td>257.82458</td>\n",
              "      <td>64.133257</td>\n",
              "      <td>0.079193</td>\n",
              "      <td>0.022867</td>\n",
              "      <td>0.082447</td>\n",
              "      <td>0.000017</td>\n",
              "      <td>8.347733</td>\n",
              "      <td>18.96488</td>\n",
              "      <td>0.043377</td>\n",
              "      <td>17.49815</td>\n",
              "      <td>0.005672</td>\n",
              "      <td>16.75003</td>\n",
              "      <td>0.004708</td>\n",
              "      <td>3</td>\n",
              "    </tr>\n",
              "    <tr>\n",
              "      <th>1</th>\n",
              "      <td>1.240000e+18</td>\n",
              "      <td>257.82458</td>\n",
              "      <td>64.133257</td>\n",
              "      <td>0.079193</td>\n",
              "      <td>0.022867</td>\n",
              "      <td>0.082466</td>\n",
              "      <td>0.000014</td>\n",
              "      <td>8.347733</td>\n",
              "      <td>18.96488</td>\n",
              "      <td>0.043377</td>\n",
              "      <td>17.49815</td>\n",
              "      <td>0.005672</td>\n",
              "      <td>16.75003</td>\n",
              "      <td>0.004708</td>\n",
              "      <td>3</td>\n",
              "    </tr>\n",
              "    <tr>\n",
              "      <th>2</th>\n",
              "      <td>1.240000e+18</td>\n",
              "      <td>257.83332</td>\n",
              "      <td>64.126043</td>\n",
              "      <td>0.091507</td>\n",
              "      <td>0.014511</td>\n",
              "      <td>0.081218</td>\n",
              "      <td>0.000021</td>\n",
              "      <td>8.011259</td>\n",
              "      <td>20.22848</td>\n",
              "      <td>0.072019</td>\n",
              "      <td>18.38334</td>\n",
              "      <td>0.007763</td>\n",
              "      <td>17.46793</td>\n",
              "      <td>0.005828</td>\n",
              "      <td>3</td>\n",
              "    </tr>\n",
              "    <tr>\n",
              "      <th>3</th>\n",
              "      <td>1.240000e+18</td>\n",
              "      <td>257.85137</td>\n",
              "      <td>64.173247</td>\n",
              "      <td>0.081102</td>\n",
              "      <td>0.009898</td>\n",
              "      <td>0.079561</td>\n",
              "      <td>0.000022</td>\n",
              "      <td>8.739276</td>\n",
              "      <td>19.21829</td>\n",
              "      <td>0.050135</td>\n",
              "      <td>17.18970</td>\n",
              "      <td>0.004936</td>\n",
              "      <td>16.22043</td>\n",
              "      <td>0.003769</td>\n",
              "      <td>3</td>\n",
              "    </tr>\n",
              "    <tr>\n",
              "      <th>4</th>\n",
              "      <td>1.240000e+18</td>\n",
              "      <td>257.85137</td>\n",
              "      <td>64.173247</td>\n",
              "      <td>0.081102</td>\n",
              "      <td>0.009898</td>\n",
              "      <td>0.079568</td>\n",
              "      <td>0.000019</td>\n",
              "      <td>8.739276</td>\n",
              "      <td>19.21829</td>\n",
              "      <td>0.050135</td>\n",
              "      <td>17.18970</td>\n",
              "      <td>0.004936</td>\n",
              "      <td>16.22043</td>\n",
              "      <td>0.003769</td>\n",
              "      <td>3</td>\n",
              "    </tr>\n",
              "  </tbody>\n",
              "</table>\n",
              "</div>\n",
              "    <div class=\"colab-df-buttons\">\n",
              "\n",
              "  <div class=\"colab-df-container\">\n",
              "    <button class=\"colab-df-convert\" onclick=\"convertToInteractive('df-ef7050fc-2348-40ee-b352-ad24d3570acf')\"\n",
              "            title=\"Convert this dataframe to an interactive table.\"\n",
              "            style=\"display:none;\">\n",
              "\n",
              "  <svg xmlns=\"http://www.w3.org/2000/svg\" height=\"24px\" viewBox=\"0 -960 960 960\">\n",
              "    <path d=\"M120-120v-720h720v720H120Zm60-500h600v-160H180v160Zm220 220h160v-160H400v160Zm0 220h160v-160H400v160ZM180-400h160v-160H180v160Zm440 0h160v-160H620v160ZM180-180h160v-160H180v160Zm440 0h160v-160H620v160Z\"/>\n",
              "  </svg>\n",
              "    </button>\n",
              "\n",
              "  <style>\n",
              "    .colab-df-container {\n",
              "      display:flex;\n",
              "      gap: 12px;\n",
              "    }\n",
              "\n",
              "    .colab-df-convert {\n",
              "      background-color: #E8F0FE;\n",
              "      border: none;\n",
              "      border-radius: 50%;\n",
              "      cursor: pointer;\n",
              "      display: none;\n",
              "      fill: #1967D2;\n",
              "      height: 32px;\n",
              "      padding: 0 0 0 0;\n",
              "      width: 32px;\n",
              "    }\n",
              "\n",
              "    .colab-df-convert:hover {\n",
              "      background-color: #E2EBFA;\n",
              "      box-shadow: 0px 1px 2px rgba(60, 64, 67, 0.3), 0px 1px 3px 1px rgba(60, 64, 67, 0.15);\n",
              "      fill: #174EA6;\n",
              "    }\n",
              "\n",
              "    .colab-df-buttons div {\n",
              "      margin-bottom: 4px;\n",
              "    }\n",
              "\n",
              "    [theme=dark] .colab-df-convert {\n",
              "      background-color: #3B4455;\n",
              "      fill: #D2E3FC;\n",
              "    }\n",
              "\n",
              "    [theme=dark] .colab-df-convert:hover {\n",
              "      background-color: #434B5C;\n",
              "      box-shadow: 0px 1px 3px 1px rgba(0, 0, 0, 0.15);\n",
              "      filter: drop-shadow(0px 1px 2px rgba(0, 0, 0, 0.3));\n",
              "      fill: #FFFFFF;\n",
              "    }\n",
              "  </style>\n",
              "\n",
              "    <script>\n",
              "      const buttonEl =\n",
              "        document.querySelector('#df-ef7050fc-2348-40ee-b352-ad24d3570acf button.colab-df-convert');\n",
              "      buttonEl.style.display =\n",
              "        google.colab.kernel.accessAllowed ? 'block' : 'none';\n",
              "\n",
              "      async function convertToInteractive(key) {\n",
              "        const element = document.querySelector('#df-ef7050fc-2348-40ee-b352-ad24d3570acf');\n",
              "        const dataTable =\n",
              "          await google.colab.kernel.invokeFunction('convertToInteractive',\n",
              "                                                    [key], {});\n",
              "        if (!dataTable) return;\n",
              "\n",
              "        const docLinkHtml = 'Like what you see? Visit the ' +\n",
              "          '<a target=\"_blank\" href=https://colab.research.google.com/notebooks/data_table.ipynb>data table notebook</a>'\n",
              "          + ' to learn more about interactive tables.';\n",
              "        element.innerHTML = '';\n",
              "        dataTable['output_type'] = 'display_data';\n",
              "        await google.colab.output.renderOutput(dataTable, element);\n",
              "        const docLink = document.createElement('div');\n",
              "        docLink.innerHTML = docLinkHtml;\n",
              "        element.appendChild(docLink);\n",
              "      }\n",
              "    </script>\n",
              "  </div>\n",
              "\n",
              "\n",
              "    <div id=\"df-c8078d87-dd8b-4517-bcc6-d8ca4435960d\">\n",
              "      <button class=\"colab-df-quickchart\" onclick=\"quickchart('df-c8078d87-dd8b-4517-bcc6-d8ca4435960d')\"\n",
              "                title=\"Suggest charts\"\n",
              "                style=\"display:none;\">\n",
              "\n",
              "<svg xmlns=\"http://www.w3.org/2000/svg\" height=\"24px\"viewBox=\"0 0 24 24\"\n",
              "     width=\"24px\">\n",
              "    <g>\n",
              "        <path d=\"M19 3H5c-1.1 0-2 .9-2 2v14c0 1.1.9 2 2 2h14c1.1 0 2-.9 2-2V5c0-1.1-.9-2-2-2zM9 17H7v-7h2v7zm4 0h-2V7h2v10zm4 0h-2v-4h2v4z\"/>\n",
              "    </g>\n",
              "</svg>\n",
              "      </button>\n",
              "\n",
              "<style>\n",
              "  .colab-df-quickchart {\n",
              "      --bg-color: #E8F0FE;\n",
              "      --fill-color: #1967D2;\n",
              "      --hover-bg-color: #E2EBFA;\n",
              "      --hover-fill-color: #174EA6;\n",
              "      --disabled-fill-color: #AAA;\n",
              "      --disabled-bg-color: #DDD;\n",
              "  }\n",
              "\n",
              "  [theme=dark] .colab-df-quickchart {\n",
              "      --bg-color: #3B4455;\n",
              "      --fill-color: #D2E3FC;\n",
              "      --hover-bg-color: #434B5C;\n",
              "      --hover-fill-color: #FFFFFF;\n",
              "      --disabled-bg-color: #3B4455;\n",
              "      --disabled-fill-color: #666;\n",
              "  }\n",
              "\n",
              "  .colab-df-quickchart {\n",
              "    background-color: var(--bg-color);\n",
              "    border: none;\n",
              "    border-radius: 50%;\n",
              "    cursor: pointer;\n",
              "    display: none;\n",
              "    fill: var(--fill-color);\n",
              "    height: 32px;\n",
              "    padding: 0;\n",
              "    width: 32px;\n",
              "  }\n",
              "\n",
              "  .colab-df-quickchart:hover {\n",
              "    background-color: var(--hover-bg-color);\n",
              "    box-shadow: 0 1px 2px rgba(60, 64, 67, 0.3), 0 1px 3px 1px rgba(60, 64, 67, 0.15);\n",
              "    fill: var(--button-hover-fill-color);\n",
              "  }\n",
              "\n",
              "  .colab-df-quickchart-complete:disabled,\n",
              "  .colab-df-quickchart-complete:disabled:hover {\n",
              "    background-color: var(--disabled-bg-color);\n",
              "    fill: var(--disabled-fill-color);\n",
              "    box-shadow: none;\n",
              "  }\n",
              "\n",
              "  .colab-df-spinner {\n",
              "    border: 2px solid var(--fill-color);\n",
              "    border-color: transparent;\n",
              "    border-bottom-color: var(--fill-color);\n",
              "    animation:\n",
              "      spin 1s steps(1) infinite;\n",
              "  }\n",
              "\n",
              "  @keyframes spin {\n",
              "    0% {\n",
              "      border-color: transparent;\n",
              "      border-bottom-color: var(--fill-color);\n",
              "      border-left-color: var(--fill-color);\n",
              "    }\n",
              "    20% {\n",
              "      border-color: transparent;\n",
              "      border-left-color: var(--fill-color);\n",
              "      border-top-color: var(--fill-color);\n",
              "    }\n",
              "    30% {\n",
              "      border-color: transparent;\n",
              "      border-left-color: var(--fill-color);\n",
              "      border-top-color: var(--fill-color);\n",
              "      border-right-color: var(--fill-color);\n",
              "    }\n",
              "    40% {\n",
              "      border-color: transparent;\n",
              "      border-right-color: var(--fill-color);\n",
              "      border-top-color: var(--fill-color);\n",
              "    }\n",
              "    60% {\n",
              "      border-color: transparent;\n",
              "      border-right-color: var(--fill-color);\n",
              "    }\n",
              "    80% {\n",
              "      border-color: transparent;\n",
              "      border-right-color: var(--fill-color);\n",
              "      border-bottom-color: var(--fill-color);\n",
              "    }\n",
              "    90% {\n",
              "      border-color: transparent;\n",
              "      border-bottom-color: var(--fill-color);\n",
              "    }\n",
              "  }\n",
              "</style>\n",
              "\n",
              "      <script>\n",
              "        async function quickchart(key) {\n",
              "          const quickchartButtonEl =\n",
              "            document.querySelector('#' + key + ' button');\n",
              "          quickchartButtonEl.disabled = true;  // To prevent multiple clicks.\n",
              "          quickchartButtonEl.classList.add('colab-df-spinner');\n",
              "          try {\n",
              "            const charts = await google.colab.kernel.invokeFunction(\n",
              "                'suggestCharts', [key], {});\n",
              "          } catch (error) {\n",
              "            console.error('Error during call to suggestCharts:', error);\n",
              "          }\n",
              "          quickchartButtonEl.classList.remove('colab-df-spinner');\n",
              "          quickchartButtonEl.classList.add('colab-df-quickchart-complete');\n",
              "        }\n",
              "        (() => {\n",
              "          let quickchartButtonEl =\n",
              "            document.querySelector('#df-c8078d87-dd8b-4517-bcc6-d8ca4435960d button');\n",
              "          quickchartButtonEl.style.display =\n",
              "            google.colab.kernel.accessAllowed ? 'block' : 'none';\n",
              "        })();\n",
              "      </script>\n",
              "    </div>\n",
              "\n",
              "    </div>\n",
              "  </div>\n"
            ],
            "application/vnd.google.colaboratory.intrinsic+json": {
              "type": "dataframe",
              "variable_name": "df",
              "summary": "{\n  \"name\": \"df\",\n  \"rows\": 139,\n  \"fields\": [\n    {\n      \"column\": \"objid\",\n      \"properties\": {\n        \"dtype\": \"number\",\n        \"std\": 0.0,\n        \"min\": 1.24e+18,\n        \"max\": 1.24e+18,\n        \"num_unique_values\": 1,\n        \"samples\": [\n          1.24e+18\n        ],\n        \"semantic_type\": \"\",\n        \"description\": \"\"\n      }\n    },\n    {\n      \"column\": \"ra\",\n      \"properties\": {\n        \"dtype\": \"number\",\n        \"std\": 0.19089447567935558,\n        \"min\": 257.77059,\n        \"max\": 258.48871,\n        \"num_unique_values\": 92,\n        \"samples\": [\n          258.08067\n        ],\n        \"semantic_type\": \"\",\n        \"description\": \"\"\n      }\n    },\n    {\n      \"column\": \"dec\",\n      \"properties\": {\n        \"dtype\": \"number\",\n        \"std\": 0.06795811179462426,\n        \"min\": 63.937414,\n        \"max\": 64.241688,\n        \"num_unique_values\": 92,\n        \"samples\": [\n          64.035634\n        ],\n        \"semantic_type\": \"\",\n        \"description\": \"\"\n      }\n    },\n    {\n      \"column\": \"photoz\",\n      \"properties\": {\n        \"dtype\": \"number\",\n        \"std\": 0.016527447849940074,\n        \"min\": 0.053107,\n        \"max\": 0.155318,\n        \"num_unique_values\": 92,\n        \"samples\": [\n          0.092821\n        ],\n        \"semantic_type\": \"\",\n        \"description\": \"\"\n      }\n    },\n    {\n      \"column\": \"photozerr\",\n      \"properties\": {\n        \"dtype\": \"number\",\n        \"std\": 0.006251269648864383,\n        \"min\": 0.007013,\n        \"max\": 0.036068,\n        \"num_unique_values\": 91,\n        \"samples\": [\n          0.014618\n        ],\n        \"semantic_type\": \"\",\n        \"description\": \"\"\n      }\n    },\n    {\n      \"column\": \"specz\",\n      \"properties\": {\n        \"dtype\": \"number\",\n        \"std\": 0.009497709534680291,\n        \"min\": 0.06997444,\n        \"max\": 0.15091,\n        \"num_unique_values\": 139,\n        \"samples\": [\n          0.08079002\n        ],\n        \"semantic_type\": \"\",\n        \"description\": \"\"\n      }\n    },\n    {\n      \"column\": \"speczerr\",\n      \"properties\": {\n        \"dtype\": \"number\",\n        \"std\": 7.251671561353282e-06,\n        \"min\": 5.18e-06,\n        \"max\": 3.76e-05,\n        \"num_unique_values\": 108,\n        \"samples\": [\n          5.87e-06\n        ],\n        \"semantic_type\": \"\",\n        \"description\": \"\"\n      }\n    },\n    {\n      \"column\": \"proj_sep\",\n      \"properties\": {\n        \"dtype\": \"number\",\n        \"std\": 2.5175814567858175,\n        \"min\": 0.429174675,\n        \"max\": 9.844518658,\n        \"num_unique_values\": 92,\n        \"samples\": [\n          3.65059811\n        ],\n        \"semantic_type\": \"\",\n        \"description\": \"\"\n      }\n    },\n    {\n      \"column\": \"umag\",\n      \"properties\": {\n        \"dtype\": \"number\",\n        \"std\": 0.7594093839387984,\n        \"min\": 17.3246,\n        \"max\": 21.5633,\n        \"num_unique_values\": 92,\n        \"samples\": [\n          18.7973\n        ],\n        \"semantic_type\": \"\",\n        \"description\": \"\"\n      }\n    },\n    {\n      \"column\": \"umagerr\",\n      \"properties\": {\n        \"dtype\": \"number\",\n        \"std\": 0.024090387614241825,\n        \"min\": 0.02258424,\n        \"max\": 0.1513836,\n        \"num_unique_values\": 92,\n        \"samples\": [\n          0.06324691\n        ],\n        \"semantic_type\": \"\",\n        \"description\": \"\"\n      }\n    },\n    {\n      \"column\": \"gmag\",\n      \"properties\": {\n        \"dtype\": \"number\",\n        \"std\": 0.7290953230794629,\n        \"min\": 14.93716,\n        \"max\": 19.19833,\n        \"num_unique_values\": 92,\n        \"samples\": [\n          16.61937\n        ],\n        \"semantic_type\": \"\",\n        \"description\": \"\"\n      }\n    },\n    {\n      \"column\": \"gmagerr\",\n      \"properties\": {\n        \"dtype\": \"number\",\n        \"std\": 0.0017505999216781392,\n        \"min\": 0.002602796,\n        \"max\": 0.01167746,\n        \"num_unique_values\": 92,\n        \"samples\": [\n          0.005006138\n        ],\n        \"semantic_type\": \"\",\n        \"description\": \"\"\n      }\n    },\n    {\n      \"column\": \"rmag\",\n      \"properties\": {\n        \"dtype\": \"number\",\n        \"std\": 0.7708099530616689,\n        \"min\": 14.03668,\n        \"max\": 18.56886,\n        \"num_unique_values\": 92,\n        \"samples\": [\n          15.65794\n        ],\n        \"semantic_type\": \"\",\n        \"description\": \"\"\n      }\n    },\n    {\n      \"column\": \"rmagerr\",\n      \"properties\": {\n        \"dtype\": \"number\",\n        \"std\": 0.0019693413358414734,\n        \"min\": 0.002119043,\n        \"max\": 0.0210136,\n        \"num_unique_values\": 92,\n        \"samples\": [\n          0.003522045\n        ],\n        \"semantic_type\": \"\",\n        \"description\": \"\"\n      }\n    },\n    {\n      \"column\": \"obj_type\",\n      \"properties\": {\n        \"dtype\": \"number\",\n        \"std\": 0,\n        \"min\": 3,\n        \"max\": 3,\n        \"num_unique_values\": 1,\n        \"samples\": [\n          3\n        ],\n        \"semantic_type\": \"\",\n        \"description\": \"\"\n      }\n    }\n  ]\n}"
            }
          },
          "metadata": {},
          "execution_count": 7
        }
      ]
    },
    {
      "cell_type": "code",
      "source": [
        "for columns in df.columns:\n",
        "  print(columns)"
      ],
      "metadata": {
        "colab": {
          "base_uri": "https://localhost:8080/"
        },
        "id": "KR9O9JNjXE8E",
        "outputId": "b77348ae-945a-4bfa-c5ae-d53be746c872"
      },
      "execution_count": 8,
      "outputs": [
        {
          "output_type": "stream",
          "name": "stdout",
          "text": [
            "objid\n",
            "ra\n",
            "dec\n",
            "photoz\n",
            "photozerr\n",
            "specz\n",
            "speczerr\n",
            "proj_sep\n",
            "umag\n",
            "umagerr\n",
            "gmag\n",
            "gmagerr\n",
            "rmag\n",
            "rmagerr\n",
            "obj_type\n"
          ]
        }
      ]
    },
    {
      "cell_type": "markdown",
      "metadata": {
        "id": "2556dW5vDdDz"
      },
      "source": [
        "### 📊 Calculating the Average Spectroscopic Redshift (`specz`) for Each Object\n",
        "\n",
        "When working with astronomical catalogs, an object (identified by a unique `objid`) might have multiple entries — for example, due to repeated observations. To reduce this to a single row per object, we aggregate the data using the following strategy:\n",
        "\n",
        "```python\n",
        "averaged_df = df.groupby('objid').agg({\n",
        "    'specz': 'mean',        # Take the mean of all spec-z values for that object\n",
        "    'ra': 'first',          # Use the first RA value (assumed constant for the object)\n",
        "    'dec': 'first',         # Use the first Dec value (same reason as above)\n",
        "    'proj_sep': 'first'     # Use the first projected separation value\n",
        "}).reset_index()\n"
      ]
    },
    {
      "cell_type": "code",
      "execution_count": 9,
      "metadata": {
        "id": "FyuETYcaDdDz",
        "colab": {
          "base_uri": "https://localhost:8080/",
          "height": 89
        },
        "outputId": "1f1d5eaf-1d3a-444c-cc0c-42afe442d7d7"
      },
      "outputs": [
        {
          "output_type": "execute_result",
          "data": {
            "text/plain": [
              "          objid     specz         ra        dec  proj_sep\n",
              "0  1.240000e+18  0.081047  257.82458  64.133257  8.347733"
            ],
            "text/html": [
              "\n",
              "  <div id=\"df-a8428b07-dff1-456a-b311-1681a8abca3e\" class=\"colab-df-container\">\n",
              "    <div>\n",
              "<style scoped>\n",
              "    .dataframe tbody tr th:only-of-type {\n",
              "        vertical-align: middle;\n",
              "    }\n",
              "\n",
              "    .dataframe tbody tr th {\n",
              "        vertical-align: top;\n",
              "    }\n",
              "\n",
              "    .dataframe thead th {\n",
              "        text-align: right;\n",
              "    }\n",
              "</style>\n",
              "<table border=\"1\" class=\"dataframe\">\n",
              "  <thead>\n",
              "    <tr style=\"text-align: right;\">\n",
              "      <th></th>\n",
              "      <th>objid</th>\n",
              "      <th>specz</th>\n",
              "      <th>ra</th>\n",
              "      <th>dec</th>\n",
              "      <th>proj_sep</th>\n",
              "    </tr>\n",
              "  </thead>\n",
              "  <tbody>\n",
              "    <tr>\n",
              "      <th>0</th>\n",
              "      <td>1.240000e+18</td>\n",
              "      <td>0.081047</td>\n",
              "      <td>257.82458</td>\n",
              "      <td>64.133257</td>\n",
              "      <td>8.347733</td>\n",
              "    </tr>\n",
              "  </tbody>\n",
              "</table>\n",
              "</div>\n",
              "    <div class=\"colab-df-buttons\">\n",
              "\n",
              "  <div class=\"colab-df-container\">\n",
              "    <button class=\"colab-df-convert\" onclick=\"convertToInteractive('df-a8428b07-dff1-456a-b311-1681a8abca3e')\"\n",
              "            title=\"Convert this dataframe to an interactive table.\"\n",
              "            style=\"display:none;\">\n",
              "\n",
              "  <svg xmlns=\"http://www.w3.org/2000/svg\" height=\"24px\" viewBox=\"0 -960 960 960\">\n",
              "    <path d=\"M120-120v-720h720v720H120Zm60-500h600v-160H180v160Zm220 220h160v-160H400v160Zm0 220h160v-160H400v160ZM180-400h160v-160H180v160Zm440 0h160v-160H620v160ZM180-180h160v-160H180v160Zm440 0h160v-160H620v160Z\"/>\n",
              "  </svg>\n",
              "    </button>\n",
              "\n",
              "  <style>\n",
              "    .colab-df-container {\n",
              "      display:flex;\n",
              "      gap: 12px;\n",
              "    }\n",
              "\n",
              "    .colab-df-convert {\n",
              "      background-color: #E8F0FE;\n",
              "      border: none;\n",
              "      border-radius: 50%;\n",
              "      cursor: pointer;\n",
              "      display: none;\n",
              "      fill: #1967D2;\n",
              "      height: 32px;\n",
              "      padding: 0 0 0 0;\n",
              "      width: 32px;\n",
              "    }\n",
              "\n",
              "    .colab-df-convert:hover {\n",
              "      background-color: #E2EBFA;\n",
              "      box-shadow: 0px 1px 2px rgba(60, 64, 67, 0.3), 0px 1px 3px 1px rgba(60, 64, 67, 0.15);\n",
              "      fill: #174EA6;\n",
              "    }\n",
              "\n",
              "    .colab-df-buttons div {\n",
              "      margin-bottom: 4px;\n",
              "    }\n",
              "\n",
              "    [theme=dark] .colab-df-convert {\n",
              "      background-color: #3B4455;\n",
              "      fill: #D2E3FC;\n",
              "    }\n",
              "\n",
              "    [theme=dark] .colab-df-convert:hover {\n",
              "      background-color: #434B5C;\n",
              "      box-shadow: 0px 1px 3px 1px rgba(0, 0, 0, 0.15);\n",
              "      filter: drop-shadow(0px 1px 2px rgba(0, 0, 0, 0.3));\n",
              "      fill: #FFFFFF;\n",
              "    }\n",
              "  </style>\n",
              "\n",
              "    <script>\n",
              "      const buttonEl =\n",
              "        document.querySelector('#df-a8428b07-dff1-456a-b311-1681a8abca3e button.colab-df-convert');\n",
              "      buttonEl.style.display =\n",
              "        google.colab.kernel.accessAllowed ? 'block' : 'none';\n",
              "\n",
              "      async function convertToInteractive(key) {\n",
              "        const element = document.querySelector('#df-a8428b07-dff1-456a-b311-1681a8abca3e');\n",
              "        const dataTable =\n",
              "          await google.colab.kernel.invokeFunction('convertToInteractive',\n",
              "                                                    [key], {});\n",
              "        if (!dataTable) return;\n",
              "\n",
              "        const docLinkHtml = 'Like what you see? Visit the ' +\n",
              "          '<a target=\"_blank\" href=https://colab.research.google.com/notebooks/data_table.ipynb>data table notebook</a>'\n",
              "          + ' to learn more about interactive tables.';\n",
              "        element.innerHTML = '';\n",
              "        dataTable['output_type'] = 'display_data';\n",
              "        await google.colab.output.renderOutput(dataTable, element);\n",
              "        const docLink = document.createElement('div');\n",
              "        docLink.innerHTML = docLinkHtml;\n",
              "        element.appendChild(docLink);\n",
              "      }\n",
              "    </script>\n",
              "  </div>\n",
              "\n",
              "\n",
              "  <div id=\"id_8e5de9c4-59b0-440e-9e65-efa83426a2ea\">\n",
              "    <style>\n",
              "      .colab-df-generate {\n",
              "        background-color: #E8F0FE;\n",
              "        border: none;\n",
              "        border-radius: 50%;\n",
              "        cursor: pointer;\n",
              "        display: none;\n",
              "        fill: #1967D2;\n",
              "        height: 32px;\n",
              "        padding: 0 0 0 0;\n",
              "        width: 32px;\n",
              "      }\n",
              "\n",
              "      .colab-df-generate:hover {\n",
              "        background-color: #E2EBFA;\n",
              "        box-shadow: 0px 1px 2px rgba(60, 64, 67, 0.3), 0px 1px 3px 1px rgba(60, 64, 67, 0.15);\n",
              "        fill: #174EA6;\n",
              "      }\n",
              "\n",
              "      [theme=dark] .colab-df-generate {\n",
              "        background-color: #3B4455;\n",
              "        fill: #D2E3FC;\n",
              "      }\n",
              "\n",
              "      [theme=dark] .colab-df-generate:hover {\n",
              "        background-color: #434B5C;\n",
              "        box-shadow: 0px 1px 3px 1px rgba(0, 0, 0, 0.15);\n",
              "        filter: drop-shadow(0px 1px 2px rgba(0, 0, 0, 0.3));\n",
              "        fill: #FFFFFF;\n",
              "      }\n",
              "    </style>\n",
              "    <button class=\"colab-df-generate\" onclick=\"generateWithVariable('averaged_df')\"\n",
              "            title=\"Generate code using this dataframe.\"\n",
              "            style=\"display:none;\">\n",
              "\n",
              "  <svg xmlns=\"http://www.w3.org/2000/svg\" height=\"24px\"viewBox=\"0 0 24 24\"\n",
              "       width=\"24px\">\n",
              "    <path d=\"M7,19H8.4L18.45,9,17,7.55,7,17.6ZM5,21V16.75L18.45,3.32a2,2,0,0,1,2.83,0l1.4,1.43a1.91,1.91,0,0,1,.58,1.4,1.91,1.91,0,0,1-.58,1.4L9.25,21ZM18.45,9,17,7.55Zm-12,3A5.31,5.31,0,0,0,4.9,8.1,5.31,5.31,0,0,0,1,6.5,5.31,5.31,0,0,0,4.9,4.9,5.31,5.31,0,0,0,6.5,1,5.31,5.31,0,0,0,8.1,4.9,5.31,5.31,0,0,0,12,6.5,5.46,5.46,0,0,0,6.5,12Z\"/>\n",
              "  </svg>\n",
              "    </button>\n",
              "    <script>\n",
              "      (() => {\n",
              "      const buttonEl =\n",
              "        document.querySelector('#id_8e5de9c4-59b0-440e-9e65-efa83426a2ea button.colab-df-generate');\n",
              "      buttonEl.style.display =\n",
              "        google.colab.kernel.accessAllowed ? 'block' : 'none';\n",
              "\n",
              "      buttonEl.onclick = () => {\n",
              "        google.colab.notebook.generateWithVariable('averaged_df');\n",
              "      }\n",
              "      })();\n",
              "    </script>\n",
              "  </div>\n",
              "\n",
              "    </div>\n",
              "  </div>\n"
            ],
            "application/vnd.google.colaboratory.intrinsic+json": {
              "type": "dataframe",
              "variable_name": "averaged_df",
              "summary": "{\n  \"name\": \"averaged_df\",\n  \"rows\": 1,\n  \"fields\": [\n    {\n      \"column\": \"objid\",\n      \"properties\": {\n        \"dtype\": \"number\",\n        \"std\": null,\n        \"min\": 1.24e+18,\n        \"max\": 1.24e+18,\n        \"num_unique_values\": 1,\n        \"samples\": [\n          1.24e+18\n        ],\n        \"semantic_type\": \"\",\n        \"description\": \"\"\n      }\n    },\n    {\n      \"column\": \"specz\",\n      \"properties\": {\n        \"dtype\": \"number\",\n        \"std\": null,\n        \"min\": 0.08104694625899281,\n        \"max\": 0.08104694625899281,\n        \"num_unique_values\": 1,\n        \"samples\": [\n          0.08104694625899281\n        ],\n        \"semantic_type\": \"\",\n        \"description\": \"\"\n      }\n    },\n    {\n      \"column\": \"ra\",\n      \"properties\": {\n        \"dtype\": \"number\",\n        \"std\": null,\n        \"min\": 257.82458,\n        \"max\": 257.82458,\n        \"num_unique_values\": 1,\n        \"samples\": [\n          257.82458\n        ],\n        \"semantic_type\": \"\",\n        \"description\": \"\"\n      }\n    },\n    {\n      \"column\": \"dec\",\n      \"properties\": {\n        \"dtype\": \"number\",\n        \"std\": null,\n        \"min\": 64.133257,\n        \"max\": 64.133257,\n        \"num_unique_values\": 1,\n        \"samples\": [\n          64.133257\n        ],\n        \"semantic_type\": \"\",\n        \"description\": \"\"\n      }\n    },\n    {\n      \"column\": \"proj_sep\",\n      \"properties\": {\n        \"dtype\": \"number\",\n        \"std\": null,\n        \"min\": 8.347733163,\n        \"max\": 8.347733163,\n        \"num_unique_values\": 1,\n        \"samples\": [\n          8.347733163\n        ],\n        \"semantic_type\": \"\",\n        \"description\": \"\"\n      }\n    }\n  ]\n}"
            }
          },
          "metadata": {},
          "execution_count": 9
        }
      ],
      "source": [
        "# Calculating the average specz for each id:\n",
        "averaged_df = df.groupby('objid').agg({'specz': 'mean','ra': 'first','dec': 'first','proj_sep': 'first',}).reset_index()\n",
        "averaged_df #there is only 1 object id so thats why only 1 row"
      ]
    },
    {
      "cell_type": "code",
      "source": [
        "averaged_df.describe()['specz']\n",
        "#count,mean,std,min,25%,50%,75% values are taken from the above single row table\n",
        "#count=1 as there is only 1 row."
      ],
      "metadata": {
        "colab": {
          "base_uri": "https://localhost:8080/",
          "height": 335
        },
        "id": "q9YR1DQ0igs4",
        "outputId": "20d2fc1c-2580-41b3-b828-8eb0f76696d0"
      },
      "execution_count": 10,
      "outputs": [
        {
          "output_type": "execute_result",
          "data": {
            "text/plain": [
              "count    1.000000\n",
              "mean     0.081047\n",
              "std           NaN\n",
              "min      0.081047\n",
              "25%      0.081047\n",
              "50%      0.081047\n",
              "75%      0.081047\n",
              "max      0.081047\n",
              "Name: specz, dtype: float64"
            ],
            "text/html": [
              "<div>\n",
              "<style scoped>\n",
              "    .dataframe tbody tr th:only-of-type {\n",
              "        vertical-align: middle;\n",
              "    }\n",
              "\n",
              "    .dataframe tbody tr th {\n",
              "        vertical-align: top;\n",
              "    }\n",
              "\n",
              "    .dataframe thead th {\n",
              "        text-align: right;\n",
              "    }\n",
              "</style>\n",
              "<table border=\"1\" class=\"dataframe\">\n",
              "  <thead>\n",
              "    <tr style=\"text-align: right;\">\n",
              "      <th></th>\n",
              "      <th>specz</th>\n",
              "    </tr>\n",
              "  </thead>\n",
              "  <tbody>\n",
              "    <tr>\n",
              "      <th>count</th>\n",
              "      <td>1.000000</td>\n",
              "    </tr>\n",
              "    <tr>\n",
              "      <th>mean</th>\n",
              "      <td>0.081047</td>\n",
              "    </tr>\n",
              "    <tr>\n",
              "      <th>std</th>\n",
              "      <td>NaN</td>\n",
              "    </tr>\n",
              "    <tr>\n",
              "      <th>min</th>\n",
              "      <td>0.081047</td>\n",
              "    </tr>\n",
              "    <tr>\n",
              "      <th>25%</th>\n",
              "      <td>0.081047</td>\n",
              "    </tr>\n",
              "    <tr>\n",
              "      <th>50%</th>\n",
              "      <td>0.081047</td>\n",
              "    </tr>\n",
              "    <tr>\n",
              "      <th>75%</th>\n",
              "      <td>0.081047</td>\n",
              "    </tr>\n",
              "    <tr>\n",
              "      <th>max</th>\n",
              "      <td>0.081047</td>\n",
              "    </tr>\n",
              "  </tbody>\n",
              "</table>\n",
              "</div><br><label><b>dtype:</b> float64</label>"
            ]
          },
          "metadata": {},
          "execution_count": 10
        }
      ]
    },
    {
      "cell_type": "markdown",
      "metadata": {
        "id": "xhUlmE88DdDz"
      },
      "source": [
        "To create a cut in the redshift so that a cluster can be identified. We must use some logic. Most astronomers prefer anything beyond 3*sigma away from the mean to be not part of the same group.\n",
        "\n",
        "Find the mean, standard deviation and limits of the redshift from the data"
      ]
    },
    {
      "cell_type": "code",
      "execution_count": 11,
      "metadata": {
        "id": "J3iTcJ1UDdD0",
        "colab": {
          "base_uri": "https://localhost:8080/"
        },
        "outputId": "c59f55c3-01e1-4149-f9e3-d032a44a2dee"
      },
      "outputs": [
        {
          "output_type": "stream",
          "name": "stdout",
          "text": [
            "Mean redshift: 0.08105\n",
            "Standard deviation: 0.00950\n",
            "3-sigma lower limit: 0.05255\n",
            "3-sigma upper limit: 0.10954\n"
          ]
        }
      ],
      "source": [
        "import numpy as np\n",
        "\n",
        "#Mean and std of the averaged specz values\n",
        "mean_specz = df['specz'].mean()\n",
        "std_specz = df['specz'].std()\n",
        "# Computing the 3-sigma limits\n",
        "lower_limit = mean_specz - 3 * std_specz      #Lower limit=μ−3σ\n",
        "upper_limit = mean_specz + 3 * std_specz      #Upper limit=μ+3σ\n",
        "\n",
        "\n",
        "print(f\"Mean redshift: {mean_specz:.5f}\")\n",
        "print(f\"Standard deviation: {std_specz:.5f}\")\n",
        "print(f\"3-sigma lower limit: {lower_limit:.5f}\")\n",
        "print(f\"3-sigma upper limit: {upper_limit:.5f}\")\n"
      ]
    },
    {
      "cell_type": "markdown",
      "metadata": {
        "id": "nQe37hhfDdD0"
      },
      "source": [
        "You can also use boxplot to visualize the overall values of redshift"
      ]
    },
    {
      "cell_type": "code",
      "execution_count": 12,
      "metadata": {
        "id": "gZBRraDWDdD0",
        "colab": {
          "base_uri": "https://localhost:8080/",
          "height": 472
        },
        "outputId": "739a2893-2750-4c59-e38a-d06d59f5c584"
      },
      "outputs": [
        {
          "output_type": "display_data",
          "data": {
            "text/plain": [
              "<Figure size 640x480 with 1 Axes>"
            ],
            "image/png": "[encoded data removed]"
          },
          "metadata": {}
        }
      ],
      "source": [
        "import matplotlib.pyplot as plt\n",
        "# Boxplot of overall redshift value\n",
        "plt.boxplot(df['specz'], patch_artist=True,boxprops=dict(facecolor='lightcoral'))\n",
        "plt.title('Boxplot of overall redshift values')\n",
        "plt.xlabel('Spectroscopic Redshift')\n",
        "plt.grid(True)\n",
        "plt.show()"
      ]
    },
    {
      "cell_type": "markdown",
      "metadata": {
        "id": "u8GxCfshDdD0"
      },
      "source": [
        "But the best plot would be a histogram to see where most of the objects downloaded lie in terms of redshift value"
      ]
    },
    {
      "cell_type": "code",
      "execution_count": 13,
      "metadata": {
        "id": "6hkbtz1IDdD0",
        "colab": {
          "base_uri": "https://localhost:8080/",
          "height": 472
        },
        "outputId": "90fb8348-506d-4020-9ae3-ffb4bd3ba885"
      },
      "outputs": [
        {
          "output_type": "display_data",
          "data": {
            "text/plain": [
              "<Figure size 640x480 with 1 Axes>"
            ],
            "image/png": "[encoded data removed]"
          },
          "metadata": {}
        }
      ],
      "source": [
        "# Histogram of redshifts\n",
        "plt.hist(df['specz'], color='lightcoral', edgecolor='black',bins=60)\n",
        "plt.xlabel('Spectroscopic Redshift')\n",
        "plt.ylabel('Galaxy Count')\n",
        "plt.title('Histogram of overall Redshift values')\n",
        "plt.grid(True)\n",
        "plt.show()"
      ]
    },
    {
      "cell_type": "markdown",
      "metadata": {
        "id": "L-6X7GBuDdD0"
      },
      "source": [
        "Filter your data based on the 3-sigma limit of redshift. You should remove all data points which are 3-sigma away from mean of redshift"
      ]
    },
    {
      "cell_type": "code",
      "execution_count": 14,
      "metadata": {
        "id": "cj5Nl7c1DdD0",
        "colab": {
          "base_uri": "https://localhost:8080/"
        },
        "outputId": "0ab7dcd0-e654-4347-a7ef-6a6e61c4da20"
      },
      "outputs": [
        {
          "output_type": "stream",
          "name": "stdout",
          "text": [
            "Original count: 139\n",
            "Filtered count: 137\n"
          ]
        }
      ],
      "source": [
        "# Filtering the data based on specz values, used 3 sigma deviation from mean as upper limit.\n",
        "filtered_df = df[(df['specz'] >= lower_limit) & (df['specz'] <= upper_limit)]\n",
        "print(\"Original count:\", len(df))\n",
        "print(\"Filtered count:\", len(filtered_df)) #only 2 values were not in the range of upper limit and lower limit"
      ]
    },
    {
      "cell_type": "markdown",
      "metadata": {
        "id": "AO2Q6vm8DdD0"
      },
      "source": [
        "Use the relation between redshift and velocity to add a column named velocity in the data. This would tell the expansion velocity at that redshift"
      ]
    },
    {
      "cell_type": "code",
      "execution_count": 15,
      "metadata": {
        "id": "fmKCISsRDdD0",
        "colab": {
          "base_uri": "https://localhost:8080/",
          "height": 345
        },
        "outputId": "0ba10372-be4c-4593-b465-8efbac9d9e7a"
      },
      "outputs": [
        {
          "output_type": "stream",
          "name": "stderr",
          "text": [
            "/tmp/ipython-input-15-1625550812.py:1: SettingWithCopyWarning: \n",
            "A value is trying to be set on a copy of a slice from a DataFrame.\n",
            "Try using .loc[row_indexer,col_indexer] = value instead\n",
            "\n",
            "See the caveats in the documentation: https://pandas.pydata.org/pandas-docs/stable/user_guide/indexing.html#returning-a-view-versus-a-copy\n",
            "  filtered_df['velocity'] = filtered_df['specz'] * c_to_kms\n"
          ]
        },
        {
          "output_type": "execute_result",
          "data": {
            "text/plain": [
              "0    24717.081720\n",
              "1    24722.783773\n",
              "2    24348.666769\n",
              "3    23851.808736\n",
              "4    23853.802356\n",
              "Name: velocity, dtype: float64"
            ],
            "text/html": [
              "<div>\n",
              "<style scoped>\n",
              "    .dataframe tbody tr th:only-of-type {\n",
              "        vertical-align: middle;\n",
              "    }\n",
              "\n",
              "    .dataframe tbody tr th {\n",
              "        vertical-align: top;\n",
              "    }\n",
              "\n",
              "    .dataframe thead th {\n",
              "        text-align: right;\n",
              "    }\n",
              "</style>\n",
              "<table border=\"1\" class=\"dataframe\">\n",
              "  <thead>\n",
              "    <tr style=\"text-align: right;\">\n",
              "      <th></th>\n",
              "      <th>velocity</th>\n",
              "    </tr>\n",
              "  </thead>\n",
              "  <tbody>\n",
              "    <tr>\n",
              "      <th>0</th>\n",
              "      <td>24717.081720</td>\n",
              "    </tr>\n",
              "    <tr>\n",
              "      <th>1</th>\n",
              "      <td>24722.783773</td>\n",
              "    </tr>\n",
              "    <tr>\n",
              "      <th>2</th>\n",
              "      <td>24348.666769</td>\n",
              "    </tr>\n",
              "    <tr>\n",
              "      <th>3</th>\n",
              "      <td>23851.808736</td>\n",
              "    </tr>\n",
              "    <tr>\n",
              "      <th>4</th>\n",
              "      <td>23853.802356</td>\n",
              "    </tr>\n",
              "  </tbody>\n",
              "</table>\n",
              "</div><br><label><b>dtype:</b> float64</label>"
            ]
          },
          "metadata": {},
          "execution_count": 15
        }
      ],
      "source": [
        "filtered_df['velocity'] = filtered_df['specz'] * c_to_kms\n",
        "filtered_df['velocity'].head()"
      ]
    },
    {
      "cell_type": "code",
      "execution_count": 16,
      "metadata": {
        "id": "cG-3BHnqDdD0",
        "colab": {
          "base_uri": "https://localhost:8080/",
          "height": 487
        },
        "outputId": "ec72173a-f8f0-4019-8f69-89166cb9a44f"
      },
      "outputs": [
        {
          "output_type": "display_data",
          "data": {
            "text/plain": [
              "<Figure size 800x500 with 1 Axes>"
            ],
            "image/png": "[encoded data removed]"
          },
          "metadata": {}
        }
      ],
      "source": [
        "#plot the velocity column created as hist\n",
        "import matplotlib.pyplot as plt\n",
        "\n",
        "# Plot histogram of galaxy velocities\n",
        "plt.figure(figsize=(8, 5))\n",
        "plt.hist(filtered_df['velocity'], bins=45, color='green', edgecolor='black')\n",
        "plt.xlabel('Velocity in km/s)')\n",
        "plt.ylabel('Number of Galaxies')\n",
        "plt.title('Histogram of Galaxy Velocities (Members of the Cluster)')\n",
        "plt.grid(True)\n",
        "plt.show()\n"
      ]
    },
    {
      "cell_type": "markdown",
      "metadata": {
        "id": "Rp0OcqVeDdD0"
      },
      "source": [
        "use the dispersion equation to find something called velocity dispersion. You can even refer to wikipedia to know about the term [wiki link here](https://en.wikipedia.org/wiki/Velocity_dispersion#:~:text=In%20astronomy%2C%20the%20velocity%20dispersion,%2C%20galaxy%20cluster%2C%20or%20supercluster.)\n",
        "\n",
        "It is the velocity dispersion value which tells us, some galaxies might be part of even larger groups!!"
      ]
    },
    {
      "cell_type": "markdown",
      "metadata": {
        "id": "M9jzD6GLDdD0"
      },
      "source": [
        "### Step 2: Calculate Mean Redshift of the Cluster\n",
        "We calculate the average redshift (`specz`) of galaxies that belong to a cluster. This gives us an estimate of the cluster's systemic redshift.\n",
        "\n",
        "`cluster_redshift = filtered_df['specz'].mean()`\n"
      ]
    },
    {
      "cell_type": "markdown",
      "metadata": {
        "id": "ftyAGY8dDdD0"
      },
      "source": [
        "The velocity dispersion \\( v \\) of galaxies relative to the cluster mean redshift is computed using the relativistic Doppler formula:\n",
        "\n",
        "$$\n",
        "v = c \\cdot \\frac{(1 + z)^2 - (1 + z_{\\text{cluster}})^2}{(1 + z)^2 + (1 + z_{\\text{cluster}})^2}\n",
        "$$\n",
        "where:\n",
        "- \\( v \\) is the relative velocity (dispersion),\n",
        "- \\( z \\) is the redshift of the individual galaxy,\n",
        "- \\( $z_{\\text{cluster}}$ \\) is the mean cluster redshift,\n",
        "- \\( c \\) is the speed of light.\n"
      ]
    },
    {
      "cell_type": "code",
      "execution_count": 17,
      "metadata": {
        "id": "_DsJl9XdDdD0",
        "colab": {
          "base_uri": "https://localhost:8080/",
          "height": 382
        },
        "outputId": "893b62e7-5885-460d-a2af-e0df6d21d079"
      },
      "outputs": [
        {
          "output_type": "stream",
          "name": "stdout",
          "text": [
            "0.08002739656934307\n"
          ]
        },
        {
          "output_type": "stream",
          "name": "stderr",
          "text": [
            "/tmp/ipython-input-17-2395977292.py:14: SettingWithCopyWarning: \n",
            "A value is trying to be set on a copy of a slice from a DataFrame.\n",
            "Try using .loc[row_indexer,col_indexer] = value instead\n",
            "\n",
            "See the caveats in the documentation: https://pandas.pydata.org/pandas-docs/stable/user_guide/indexing.html#returning-a-view-versus-a-copy\n",
            "  filtered_df['velocity_dispersion'] = c_to_kms * (numerator/denominator) # velocity dispersion ( v ) of galaxies relative to the cluster mean redshift is computed using the relativistic Doppler formula\n"
          ]
        },
        {
          "output_type": "execute_result",
          "data": {
            "text/plain": [
              "0    670.963582\n",
              "1    676.231250\n",
              "2    330.417516\n",
              "3   -129.470206\n",
              "4   -127.623517\n",
              "Name: velocity_dispersion, dtype: float64"
            ],
            "text/html": [
              "<div>\n",
              "<style scoped>\n",
              "    .dataframe tbody tr th:only-of-type {\n",
              "        vertical-align: middle;\n",
              "    }\n",
              "\n",
              "    .dataframe tbody tr th {\n",
              "        vertical-align: top;\n",
              "    }\n",
              "\n",
              "    .dataframe thead th {\n",
              "        text-align: right;\n",
              "    }\n",
              "</style>\n",
              "<table border=\"1\" class=\"dataframe\">\n",
              "  <thead>\n",
              "    <tr style=\"text-align: right;\">\n",
              "      <th></th>\n",
              "      <th>velocity_dispersion</th>\n",
              "    </tr>\n",
              "  </thead>\n",
              "  <tbody>\n",
              "    <tr>\n",
              "      <th>0</th>\n",
              "      <td>670.963582</td>\n",
              "    </tr>\n",
              "    <tr>\n",
              "      <th>1</th>\n",
              "      <td>676.231250</td>\n",
              "    </tr>\n",
              "    <tr>\n",
              "      <th>2</th>\n",
              "      <td>330.417516</td>\n",
              "    </tr>\n",
              "    <tr>\n",
              "      <th>3</th>\n",
              "      <td>-129.470206</td>\n",
              "    </tr>\n",
              "    <tr>\n",
              "      <th>4</th>\n",
              "      <td>-127.623517</td>\n",
              "    </tr>\n",
              "  </tbody>\n",
              "</table>\n",
              "</div><br><label><b>dtype:</b> float64</label>"
            ]
          },
          "metadata": {},
          "execution_count": 17
        }
      ],
      "source": [
        "import numpy as np\n",
        "from astropy.constants import c\n",
        "import astropy.units as u\n",
        "\n",
        "#Calculation of mean redshift of the cluster(z_cluster)\n",
        "z_cluster = filtered_df['specz'].mean()\n",
        "print(z_cluster)\n",
        "\n",
        "z = filtered_df['specz'] #redshift of the individual galaxy\n",
        "\n",
        "numerator = (1 + z)**2 - (1 + z_cluster)**2 #numerator of relativistic Doppler formula\n",
        "denominator = (1 + z)**2 + (1 + z_cluster)**2 # denominator of relativistic Doppler formula\n",
        "\n",
        "filtered_df['velocity_dispersion'] = c_to_kms * (numerator/denominator) # velocity dispersion ( v ) of galaxies relative to the cluster mean redshift is computed using the relativistic Doppler formula\n",
        "filtered_df['velocity_dispersion'].head()"
      ]
    },
    {
      "cell_type": "code",
      "source": [
        "sigma_v = filtered_df['velocity_dispersion'].std() #standard deviation of the velocity dispersion of cluster\n",
        "print(f\"Velocity dispersion (σ): {sigma_v:.2f} km/s\")"
      ],
      "metadata": {
        "colab": {
          "base_uri": "https://localhost:8080/"
        },
        "id": "svACQxoVz3LB",
        "outputId": "8e4b90fa-f649-4d6b-ce2a-dc63ce5bd81b"
      },
      "execution_count": 18,
      "outputs": [
        {
          "output_type": "stream",
          "name": "stdout",
          "text": [
            "Velocity dispersion (σ): 1202.58 km/s\n"
          ]
        }
      ]
    },
    {
      "cell_type": "markdown",
      "metadata": {
        "id": "SEqCodNUDdD1"
      },
      "source": [
        "Pro tip: Check what the describe function of pandas does. Does it help to get quick look stats for your column of dispersion??"
      ]
    },
    {
      "cell_type": "code",
      "execution_count": 19,
      "metadata": {
        "id": "PJtY52R3DdD1",
        "colab": {
          "base_uri": "https://localhost:8080/",
          "height": 335
        },
        "outputId": "e3f72bf7-34b4-46ab-85fd-f5a8df812498"
      },
      "outputs": [
        {
          "output_type": "execute_result",
          "data": {
            "text/plain": [
              "count     137.000000\n",
              "mean       -2.392825\n",
              "std      1202.576295\n",
              "min     -2803.471718\n",
              "25%      -763.070775\n",
              "50%       248.411265\n",
              "75%       767.132350\n",
              "max      4217.366753\n",
              "Name: velocity_dispersion, dtype: float64"
            ],
            "text/html": [
              "<div>\n",
              "<style scoped>\n",
              "    .dataframe tbody tr th:only-of-type {\n",
              "        vertical-align: middle;\n",
              "    }\n",
              "\n",
              "    .dataframe tbody tr th {\n",
              "        vertical-align: top;\n",
              "    }\n",
              "\n",
              "    .dataframe thead th {\n",
              "        text-align: right;\n",
              "    }\n",
              "</style>\n",
              "<table border=\"1\" class=\"dataframe\">\n",
              "  <thead>\n",
              "    <tr style=\"text-align: right;\">\n",
              "      <th></th>\n",
              "      <th>velocity_dispersion</th>\n",
              "    </tr>\n",
              "  </thead>\n",
              "  <tbody>\n",
              "    <tr>\n",
              "      <th>count</th>\n",
              "      <td>137.000000</td>\n",
              "    </tr>\n",
              "    <tr>\n",
              "      <th>mean</th>\n",
              "      <td>-2.392825</td>\n",
              "    </tr>\n",
              "    <tr>\n",
              "      <th>std</th>\n",
              "      <td>1202.576295</td>\n",
              "    </tr>\n",
              "    <tr>\n",
              "      <th>min</th>\n",
              "      <td>-2803.471718</td>\n",
              "    </tr>\n",
              "    <tr>\n",
              "      <th>25%</th>\n",
              "      <td>-763.070775</td>\n",
              "    </tr>\n",
              "    <tr>\n",
              "      <th>50%</th>\n",
              "      <td>248.411265</td>\n",
              "    </tr>\n",
              "    <tr>\n",
              "      <th>75%</th>\n",
              "      <td>767.132350</td>\n",
              "    </tr>\n",
              "    <tr>\n",
              "      <th>max</th>\n",
              "      <td>4217.366753</td>\n",
              "    </tr>\n",
              "  </tbody>\n",
              "</table>\n",
              "</div><br><label><b>dtype:</b> float64</label>"
            ]
          },
          "metadata": {},
          "execution_count": 19
        }
      ],
      "source": [
        "filtered_df['velocity_dispersion'].describe()"
      ]
    },
    {
      "cell_type": "code",
      "source": [
        "print(f\"The value of the cluster redshift = {z_cluster:.4f}\")"
      ],
      "metadata": {
        "colab": {
          "base_uri": "https://localhost:8080/"
        },
        "id": "x8mnF_r_vHwz",
        "outputId": "c0c11b9a-7ccb-4788-e532-6c99f9c186f0"
      },
      "execution_count": 20,
      "outputs": [
        {
          "output_type": "stream",
          "name": "stdout",
          "text": [
            "The value of the cluster redshift = 0.0800\n"
          ]
        }
      ]
    },
    {
      "cell_type": "markdown",
      "metadata": {
        "id": "yVD_aHlJDdD1"
      },
      "source": [
        "### Step 4: Visualizing Angular Separation of Galaxies\n",
        "We plot a histogram of the projected (angular) separation of galaxies from the cluster center. This helps us understand the spatial distribution of galaxies within the cluster field.\n",
        "\n",
        "- The x-axis represents the angular separation (in arcminutes or degrees, depending on units).\n",
        "- The y-axis shows the number of galaxies at each separation bin.\n",
        "\n"
      ]
    },
    {
      "cell_type": "code",
      "execution_count": 21,
      "metadata": {
        "id": "wI9KE-yNDdD1",
        "colab": {
          "base_uri": "https://localhost:8080/",
          "height": 487
        },
        "outputId": "168b8055-3c88-439e-9c23-4cf0c8478ab7"
      },
      "outputs": [
        {
          "output_type": "display_data",
          "data": {
            "text/plain": [
              "<Figure size 800x500 with 1 Axes>"
            ],
            "image/png": "[encoded data removed]"
          },
          "metadata": {}
        }
      ],
      "source": [
        "#Plot histogram for proj sep column\n",
        "\n",
        "# Histogram of projected angular separation\n",
        "plt.figure(figsize=(8, 5))\n",
        "plt.hist(filtered_df['proj_sep'], bins=50, color='blue', edgecolor='black')\n",
        "plt.xlabel('Projected Separation in arcminutes)')\n",
        "plt.ylabel('No. of Galaxies')\n",
        "plt.title('Projected (Angular) Separation of Galaxies from Cluster Center')\n",
        "plt.grid(True)\n",
        "plt.show()\n"
      ]
    },
    {
      "cell_type": "markdown",
      "metadata": {
        "id": "zjbtvWxDDdD1"
      },
      "source": [
        "### Determining size and mass of the cluster:"
      ]
    },
    {
      "cell_type": "markdown",
      "metadata": {
        "id": "_fWcwMEDDdD1"
      },
      "source": [
        "### Step 5: Estimating Physical Diameter of the Cluster\n",
        "We now estimate the **physical diameter** of the galaxy cluster using cosmological parameters.\n",
        "\n",
        "- `r` is the **co-moving distance**, approximated using a Taylor expansion for low redshift:\n",
        "  $$\n",
        "  r = \\frac{cz}{H_0} \\left(1 - \\frac{z}{2}(1 + q_0)\\right)\n",
        "  $$\n",
        "  where $q_0$ is the deceleration parameter\n",
        "- `ra` is the **angular diameter distance**, given by:\n",
        "  $$\n",
        "  D_A = \\frac{r}{1 + z}\n",
        "  $$\n",
        "- Finally, we convert the observed angular diameter (in arcminutes) into physical size using:\n",
        "  $$\n",
        "  \\text{diameter (in Mpc)} = D_A \\cdot \\theta\n",
        "  $$\n",
        "  where $ \\theta $ is the angular size in radians, converted from arcminutes.\n",
        "\n",
        "> This gives us a rough estimate of the cluster's size in megaparsecs (Mpc), assuming a flat ΛCDM cosmology.\n"
      ]
    },
    {
      "cell_type": "code",
      "execution_count": 22,
      "metadata": {
        "id": "AN86KD83DdD1",
        "colab": {
          "base_uri": "https://localhost:8080/"
        },
        "outputId": "cbfc776a-978f-4d28-ae90-28ac7c9be8b7"
      },
      "outputs": [
        {
          "output_type": "stream",
          "name": "stdout",
          "text": [
            "Co-moving distance (r): 336.35 Mpc\n",
            "Angular diameter distance (D_A): 311.42 Mpc\n",
            "Physical diameter of cluster: 0.8918 Mpc (for θ = 9.844518658 arcmin)\n"
          ]
        }
      ],
      "source": [
        "r = (c_to_kms * z_cluster / H0) * (1 - (z_cluster / 2) * (1 + q0))#co-moving distance\n",
        "DA = r / (1 + z_cluster)  # angular diameter distance\n",
        "theta_arcmin = filtered_df['proj_sep'].max()  # e.g., 9.8 arcmin\n",
        "theta_rad = np.deg2rad(theta_arcmin / 60)    # converting to radians\n",
        "diameter_mpc = DA * theta_rad #angular diameter (in arcminutes) into physical diameter\n",
        "print(f\"Co-moving distance (r): {r:.2f}\")\n",
        "print(f\"Angular diameter distance (D_A): {DA:.2f}\")\n",
        "print(f\"Physical diameter of cluster: {diameter_mpc.value:.4f} Mpc (for θ = {theta_arcmin} arcmin)\")"
      ]
    },
    {
      "cell_type": "markdown",
      "metadata": {
        "id": "hJwidiSIDdD1"
      },
      "source": [
        "### Step 6: Calculating the Dynamical Mass of the Cluster\n",
        "We now estimate the **dynamical mass** of the galaxy cluster using the virial theorem:\n",
        "\n",
        "$$\n",
        "M_{\\text{dyn}} = \\frac{3 \\sigma^2 R}{G}\n",
        "$$\n",
        "\n",
        "Where:\n",
        "- $ \\sigma $ is the **velocity dispersion** in m/s (`disp * 1000`),\n",
        "- $ R $ is the **cluster radius** in meters (half the physical diameter converted to meters),\n",
        "- $ G $ is the **gravitational constant** in SI units,\n",
        "- The factor of 3 assumes an isotropic velocity distribution (common in virial estimates).\n",
        "\n",
        "We convert the final result into **solar masses** by dividing by $ 2 \\times 10^{30} \\, \\text{kg} $.\n",
        "\n",
        "> This mass estimate assumes the cluster is in dynamical equilibrium and bound by gravity.\n"
      ]
    },
    {
      "cell_type": "code",
      "source": [
        "# Constants\n",
        "solar_mass = u.Msun     # 1 solar mass in kg\n",
        "#Velocity dispersion (σ) in m/s\n",
        "sigma = sigma_v * 1000* u.m / u.s  # converting to m/s\n",
        "G_si = const.G\n",
        "#Radius in meters (half of physical diameter)\n",
        "radius_m = (diameter_mpc / 2)  # 1 Mpc = 3.086e22 meters\n",
        "radius_m_in_meters = radius_m.to(u.m)\n",
        "#Dynamical mass calculation\n",
        "M_dyn_kg = (3 * sigma**2 * radius_m_in_meters) / G_si\n",
        "\n",
        "#Dynamic mass calculation\n",
        "M_dyn_solar = M_dyn_kg.to(solar_mass)\n",
        "print(f\"Cluster radius: {radius_m_in_meters:.2e}\")\n",
        "print(f\"Dynamical Mass: {M_dyn_solar:.2e}\")"
      ],
      "metadata": {
        "colab": {
          "base_uri": "https://localhost:8080/"
        },
        "id": "Oj2BDuEe3Trw",
        "outputId": "5368219d-5d0a-4be2-f6e0-d086d80a6624"
      },
      "execution_count": 26,
      "outputs": [
        {
          "output_type": "stream",
          "name": "stdout",
          "text": [
            "Cluster radius: 1.38e+22 m\n",
            "Dynamical Mass: 4.50e+14 solMass\n"
          ]
        }
      ]
    },
    {
      "cell_type": "markdown",
      "source": [
        "#LUMINOUS MASS CALCULATION"
      ],
      "metadata": {
        "id": "Y-HicNABAkgK"
      }
    },
    {
      "cell_type": "code",
      "source": [
        "# Solar magnitude in r-band\n",
        "M_sun_r = 4.65\n",
        "\n",
        "#Computing luminosity distance in parsecs\n",
        "DL_Mpc = (1 + filtered_df['specz']) * r  # r from earlier step\n",
        "DL_pc = DL_Mpc * 1e6\n",
        "\n",
        "#Computing absolute magnitude\n",
        "filtered_df['M_r'] = filtered_df['rmag'] - 5 * np.log10(DL_pc) + 5\n",
        "\n",
        "#Computing luminginosity in solar units\n",
        "filtered_df['L_r'] = 10 ** (-0.4 * (filtered_df['M_r'] - M_sun_r))\n",
        "\n",
        "#Estimation of luminous mass\n",
        "#Typical M/L for elliptical galaxies ≈ 3 (can vary)\n",
        "M_L_ratio = 3\n",
        "filtered_df['luminous_mass'] = filtered_df['L_r'] * M_L_ratio\n",
        "\n",
        "#Total luminous mass calculation\n",
        "M_luminous_total = filtered_df['luminous_mass'].sum()\n",
        "print(f\"Total luminous mass: {M_luminous_total:.2e} solar masses\")"
      ],
      "metadata": {
        "colab": {
          "base_uri": "https://localhost:8080/"
        },
        "id": "Fh0yIHuR1Wvf",
        "outputId": "f5f6dbb8-75f8-4ac7-ea86-23d53e7d99a5"
      },
      "execution_count": 27,
      "outputs": [
        {
          "output_type": "stream",
          "name": "stdout",
          "text": [
            "Total luminous mass: 1.07e+13 solar masses\n"
          ]
        },
        {
          "output_type": "stream",
          "name": "stderr",
          "text": [
            "/tmp/ipython-input-27-553261645.py:9: SettingWithCopyWarning: \n",
            "A value is trying to be set on a copy of a slice from a DataFrame.\n",
            "Try using .loc[row_indexer,col_indexer] = value instead\n",
            "\n",
            "See the caveats in the documentation: https://pandas.pydata.org/pandas-docs/stable/user_guide/indexing.html#returning-a-view-versus-a-copy\n",
            "  filtered_df['M_r'] = filtered_df['rmag'] - 5 * np.log10(DL_pc) + 5\n",
            "/tmp/ipython-input-27-553261645.py:12: SettingWithCopyWarning: \n",
            "A value is trying to be set on a copy of a slice from a DataFrame.\n",
            "Try using .loc[row_indexer,col_indexer] = value instead\n",
            "\n",
            "See the caveats in the documentation: https://pandas.pydata.org/pandas-docs/stable/user_guide/indexing.html#returning-a-view-versus-a-copy\n",
            "  filtered_df['L_r'] = 10 ** (-0.4 * (filtered_df['M_r'] - M_sun_r))\n",
            "/tmp/ipython-input-27-553261645.py:17: SettingWithCopyWarning: \n",
            "A value is trying to be set on a copy of a slice from a DataFrame.\n",
            "Try using .loc[row_indexer,col_indexer] = value instead\n",
            "\n",
            "See the caveats in the documentation: https://pandas.pydata.org/pandas-docs/stable/user_guide/indexing.html#returning-a-view-versus-a-copy\n",
            "  filtered_df['luminous_mass'] = filtered_df['L_r'] * M_L_ratio\n"
          ]
        }
      ]
    }
  ],
  "metadata": {
    "kernelspec": {
      "display_name": "compastrolabenv",
      "language": "python",
      "name": "python3"
    },
    "language_info": {
      "codemirror_mode": {
        "name": "ipython",
        "version": 3
      },
      "file_extension": ".py",
      "mimetype": "text/x-python",
      "name": "python",
      "nbconvert_exporter": "python",
      "pygments_lexer": "ipython3",
      "version": "3.11.5"
    },
    "colab": {
      "provenance": []
    }
  },
  "nbformat": 4,
  "nbformat_minor": 0
}